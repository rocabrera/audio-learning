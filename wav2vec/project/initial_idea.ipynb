{
 "cells": [
  {
   "cell_type": "code",
   "execution_count": 57,
   "id": "6a1e7d8f-2fb2-49b2-a3b2-b8b1ab329e23",
   "metadata": {
    "tags": []
   },
   "outputs": [],
   "source": [
    "import re\n",
    "import os\n",
    "#import torch\n",
    "import pandas as pd\n",
    "from glob import glob\n",
    "\n",
    "from abc import ABC, abstractmethod\n",
    "\n",
    "class DataBase(ABC):\n",
    "    \n",
    "    @abstractmethod\n",
    "    def make_tidy(self):\n",
    "        pass\n",
    "    \n",
    "    @abstractmethod\n",
    "    def parse_data(self) -> pd.DataFrame:\n",
    "        pass\n",
    "    \n",
    "class MLS(DataBase):\n",
    "    \n",
    "    ext = \".flac\" \n",
    "    basename = \"multi_speech_librespeech\"\n",
    "    \n",
    "    def __init__(self, data_train_dir, data_test_dir, data_dev_dir):\n",
    "\n",
    "        self.train_path = data_train_dir\n",
    "        self.test_path = data_test_dir\n",
    "        self.dev_path = data_dev_dir\n",
    "        \n",
    "    def _create_path(self, path_type:str, audio_code:str):\n",
    "    \n",
    "        match = re.search(\"(\\d+)_(\\d+)_(\\d+)\",audio_code)\n",
    "        return os.path.join(path_type, \"audio\", match.group(1), match.group(2), \"\".join([audio_code, self.ext]))\n",
    "\n",
    "    def _parse_type(self, path_type:str, type_:str) -> pd.DataFrame:\n",
    "        path_label = os.path.join(path_type, \"transcripts.txt\")\n",
    "        \n",
    "        df = pd.read_csv(path_label, sep=\"\\t\",header=None,names=[\"audio_code\", \"label\"])    \n",
    "        df = df.assign(**{\"type\":type_,\n",
    "                          \"audio_path\":df.audio_code.apply(lambda x: \n",
    "                                                           self._create_path(path_type,x))\n",
    "                         })\n",
    "        return df.filter([\"audio_path\", \"label\", \"type\"])\n",
    "    \n",
    "    def make_tidy(self):\n",
    "        pass\n",
    "    \n",
    "    def parse_data(self) -> pd.DataFrame:\n",
    "        \n",
    "        df_train = self._parse_type(self.train_path, \"train\")\n",
    "        df_test = self._parse_type(self.test_path, \"test\")\n",
    "        df_dev = self._parse_type(self.dev_path, \"dev\")\n",
    "    \n",
    "        return pd.concat([df_train, df_test, df_dev], ignore_index=True).assign(base=self.basename)\n",
    "\n",
    "class CommonVoice(DataBase):\n",
    "    \n",
    "    ext = \".mp3\"    \n",
    "    basename = \"common_voice\"\n",
    "    \n",
    "    def __init__(self, main_path):\n",
    "\n",
    "        self.train_path = os.path.join(main_path, \"train.tsv\")\n",
    "        self.test_path = os.path.join(main_path, \"test.tsv\")\n",
    "        self.dev_path = os.path.join(main_path, \"validated.tsv\")\n",
    "        self.audios_path = os.path.join(main_path, \"clips\")\n",
    "        \n",
    "    def _create_path(self, audio_name):\n",
    "        return os.path.join(self.audios_path, audio_name)\n",
    "\n",
    "    def _parse_type(self,type_): \n",
    "        return (df.assign(**{\"type\":type_, \"audio_path\":df[\"path\"].apply(self._create_path)})\n",
    "                  .rename(columns={\"sentence\":\"label\"})\n",
    "                  .filter([\"audio_path\", \"label\", \"type\"]))\n",
    "    \n",
    "    def make_tidy(self):\n",
    "        pass\n",
    "    \n",
    "    def parse_data(self) -> pd.DataFrame: \n",
    "        \n",
    "        df_train = self._parse_type(\"train\")\n",
    "        df_test = self._parse_type(\"test\")\n",
    "        df_dev = self._parse_type(\"dev\")\n",
    "        \n",
    "        return pd.concat([df_train, df_test, df_dev], ignore_index=True).assign(base=self.basename)"
   ]
  },
  {
   "cell_type": "code",
   "execution_count": 58,
   "id": "38024128-166e-437b-90af-a77bdf3d4790",
   "metadata": {},
   "outputs": [
    {
     "data": {
      "text/plain": [
       "'.flac'"
      ]
     },
     "execution_count": 58,
     "metadata": {},
     "output_type": "execute_result"
    }
   ],
   "source": [
    "mls.ext"
   ]
  },
  {
   "cell_type": "code",
   "execution_count": 17,
   "id": "89dcd3c3-a2e6-415f-a827-24be58622a13",
   "metadata": {},
   "outputs": [],
   "source": [
    "audio_path = os.path.join(\"data/common_voice/cv-corpus-7.0-2021-07-21/pt\",\"clips\",\"common_voice_pt_27026042.mp3\")"
   ]
  },
  {
   "cell_type": "code",
   "execution_count": 18,
   "id": "cf36a534-c295-4690-ace7-14ce19a464fe",
   "metadata": {},
   "outputs": [
    {
     "data": {
      "text/plain": [
       "<_io.BufferedRandom name='test.wav'>"
      ]
     },
     "execution_count": 18,
     "metadata": {},
     "output_type": "execute_result"
    }
   ],
   "source": [
    "from pydub import AudioSegment\n",
    "\n",
    "# files                                                                  \n",
    "src = \"transcript.mp3\"\n",
    "dst = \"test.wav\"\n",
    "\n",
    "# convert wav to mp3                                                            \n",
    "sound = AudioSegment.from_mp3(audio_path)\n",
    "sound.export(dst, format=\"wav\")"
   ]
  },
  {
   "cell_type": "code",
   "execution_count": 76,
   "id": "a1e1b8be-35de-4466-90b8-421c46c0d0a7",
   "metadata": {},
   "outputs": [],
   "source": [
    "from pathlib import Path\n",
    "\n",
    "class CreateTidyDataset:\n",
    "    \n",
    "    def __init__(self):\n",
    "        \n",
    "        mls = MLS(data_train_dir = \"data/mls_portuguese/train\", \n",
    "                  data_test_dir  = \"data/mls_portuguese/test\",\n",
    "                  data_dev_dir   = \"data/mls_portuguese/dev\")\n",
    "\n",
    "        cov = CommonVoice(main_path = \"data/common_voice/cv-corpus-7.0-2021-07-21/pt\")\n",
    "        \n",
    "        self.databases = [(mls,False), (cov, False)]\n",
    "\n",
    "    def mp3_convert(self, path, database):\n",
    "        pass\n",
    "    \n",
    "    def flac_convert(self, path, database):\n",
    "        pass\n",
    "  \n",
    "    def create_folder(self, path):\n",
    "        Path(path).mkdir(parents=True, exist_ok=True)\n",
    "        return path\n",
    "    \n",
    "    def is_folder_created(self, path, force:bool):\n",
    "        if force: return False\n",
    "        else: return Path(path).is_dir()\n",
    "            \n",
    "    def converter_audio(self):\n",
    "        \n",
    "        conver_mapper = {\".mp3\": self.mp3_convert, \".flac\": self.flac_convert}\n",
    "                \n",
    "        for database, force in self.databases:\n",
    "\n",
    "            algos = []\n",
    "            path = os.path.join(\"data\", \"tidy\", database.basename)\n",
    "            if not self.is_folder_created(path, force):\n",
    "                path = self.create_folder(path)\n",
    "                convert = conver_mapper[database.ext]\n",
    "                algo = convert(path, database)\n",
    "                algos.append(algo)\n",
    "\n",
    "tidy = CreateTidyDataset()       "
   ]
  },
  {
   "cell_type": "code",
   "execution_count": 77,
   "id": "a9ad0ab6-a914-4f68-948e-b22adec504c4",
   "metadata": {},
   "outputs": [],
   "source": [
    "tidy.converter_audio()"
   ]
  }
 ],
 "metadata": {
  "kernelspec": {
   "display_name": "venv_playground",
   "language": "python",
   "name": "venv_playground"
  },
  "language_info": {
   "codemirror_mode": {
    "name": "ipython",
    "version": 3
   },
   "file_extension": ".py",
   "mimetype": "text/x-python",
   "name": "python",
   "nbconvert_exporter": "python",
   "pygments_lexer": "ipython3",
   "version": "3.9.6"
  }
 },
 "nbformat": 4,
 "nbformat_minor": 5
}
