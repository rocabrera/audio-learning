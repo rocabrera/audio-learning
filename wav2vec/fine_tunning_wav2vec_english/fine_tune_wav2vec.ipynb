{
 "cells": [
  {
   "cell_type": "code",
   "execution_count": 1,
   "id": "686dd8e7-03ac-4df0-8c29-9c2d3c2c3b65",
   "metadata": {
    "tags": []
   },
   "outputs": [],
   "source": [
    "import re\n",
    "import json\n",
    "import random\n",
    "from dataclasses import dataclass, field\n",
    "from typing import Any, Dict, List, Optional, Union\n",
    "\n",
    "import numpy as np\n",
    "import pandas as pd\n",
    "import IPython.display as ipd\n",
    "import soundfile as sf\n",
    "\n",
    "import torch\n",
    "from datasets import load_dataset, load_metric\n",
    "from transformers import (Wav2Vec2CTCTokenizer, \n",
    "                          Wav2Vec2FeatureExtractor, \n",
    "                          Wav2Vec2Processor, \n",
    "                          Wav2Vec2ForCTC,\n",
    "                          TrainingArguments,\n",
    "                          Trainer)"
   ]
  },
  {
   "cell_type": "code",
   "execution_count": 2,
   "id": "fec2a4ef-4e8b-4175-b7fc-5e6bd0d0d381",
   "metadata": {
    "tags": []
   },
   "outputs": [
    {
     "name": "stderr",
     "output_type": "stream",
     "text": [
      "Reusing dataset timit_asr (/home/rocabrera/.cache/huggingface/datasets/timit_asr/clean/2.0.1/66d672b7070257726bc9e76100d06d3e342aa6c37aed742803302c293540e96d)\n"
     ]
    },
    {
     "name": "stdout",
     "output_type": "stream",
     "text": [
      "DatasetDict({\n",
      "    train: Dataset({\n",
      "        features: ['file', 'text'],\n",
      "        num_rows: 4620\n",
      "    })\n",
      "    test: Dataset({\n",
      "        features: ['file', 'text'],\n",
      "        num_rows: 1680\n",
      "    })\n",
      "})\n"
     ]
    }
   ],
   "source": [
    "timit = load_dataset(\"timit_asr\")\n",
    "timit = timit.remove_columns([\"phonetic_detail\", \"word_detail\", \"dialect_region\", \"id\", \"sentence_type\", \"speaker_id\"])\n",
    "\n",
    "print(timit)"
   ]
  },
  {
   "cell_type": "code",
   "execution_count": 5,
   "id": "3007ef59-a598-492c-b73b-4c73967be98f",
   "metadata": {},
   "outputs": [
    {
     "data": {
      "text/plain": [
       "False"
      ]
     },
     "execution_count": 5,
     "metadata": {},
     "output_type": "execute_result"
    }
   ],
   "source": [
    "isinstance(timit, torch.utils.data.Dataset)"
   ]
  },
  {
   "cell_type": "code",
   "execution_count": 3,
   "id": "2f33174d-38bc-47dd-9a84-51606224c3aa",
   "metadata": {
    "tags": []
   },
   "outputs": [
    {
     "data": {
      "text/html": [
       "<div>\n",
       "<style scoped>\n",
       "    .dataframe tbody tr th:only-of-type {\n",
       "        vertical-align: middle;\n",
       "    }\n",
       "\n",
       "    .dataframe tbody tr th {\n",
       "        vertical-align: top;\n",
       "    }\n",
       "\n",
       "    .dataframe thead th {\n",
       "        text-align: right;\n",
       "    }\n",
       "</style>\n",
       "<table border=\"1\" class=\"dataframe\">\n",
       "  <thead>\n",
       "    <tr style=\"text-align: right;\">\n",
       "      <th></th>\n",
       "      <th>text</th>\n",
       "    </tr>\n",
       "  </thead>\n",
       "  <tbody>\n",
       "    <tr>\n",
       "      <th>0</th>\n",
       "      <td>Most young rise early every morning.</td>\n",
       "    </tr>\n",
       "    <tr>\n",
       "      <th>1</th>\n",
       "      <td>The full moon shone brightly that night.</td>\n",
       "    </tr>\n",
       "    <tr>\n",
       "      <th>2</th>\n",
       "      <td>Westchester is a county in New York.</td>\n",
       "    </tr>\n",
       "    <tr>\n",
       "      <th>3</th>\n",
       "      <td>Her auburn hair reminded him of autumn leaves.</td>\n",
       "    </tr>\n",
       "    <tr>\n",
       "      <th>4</th>\n",
       "      <td>Orange juice tastes funny after toothpaste.</td>\n",
       "    </tr>\n",
       "    <tr>\n",
       "      <th>5</th>\n",
       "      <td>Nonprofit organizations have frequent fund rai...</td>\n",
       "    </tr>\n",
       "    <tr>\n",
       "      <th>6</th>\n",
       "      <td>But now she sank lower to the rock.</td>\n",
       "    </tr>\n",
       "    <tr>\n",
       "      <th>7</th>\n",
       "      <td>Remember to allow identical twins to enter fre...</td>\n",
       "    </tr>\n",
       "    <tr>\n",
       "      <th>8</th>\n",
       "      <td>The most recent geological survey found seismi...</td>\n",
       "    </tr>\n",
       "    <tr>\n",
       "      <th>9</th>\n",
       "      <td>The news agency hired a great journalist.</td>\n",
       "    </tr>\n",
       "  </tbody>\n",
       "</table>\n",
       "</div>"
      ],
      "text/plain": [
       "                                                text\n",
       "0               Most young rise early every morning.\n",
       "1           The full moon shone brightly that night.\n",
       "2               Westchester is a county in New York.\n",
       "3     Her auburn hair reminded him of autumn leaves.\n",
       "4        Orange juice tastes funny after toothpaste.\n",
       "5  Nonprofit organizations have frequent fund rai...\n",
       "6                But now she sank lower to the rock.\n",
       "7  Remember to allow identical twins to enter fre...\n",
       "8  The most recent geological survey found seismi...\n",
       "9          The news agency hired a great journalist."
      ]
     },
     "metadata": {},
     "output_type": "display_data"
    }
   ],
   "source": [
    "# n random samples\n",
    "def show_samples(dataset, qtd_random = 10):\n",
    "    random_instances = [random.randint(0, dataset.num_rows) for _ in range(qtd_random)]\n",
    "    ipd.display(pd.DataFrame(dataset[random_instances]))\n",
    "    \n",
    "show_samples(timit[\"train\"].remove_columns([\"file\"]))"
   ]
  },
  {
   "cell_type": "code",
   "execution_count": 4,
   "id": "09deed28-f381-4d03-b0cd-d7dfd1683762",
   "metadata": {
    "tags": []
   },
   "outputs": [
    {
     "data": {
      "application/vnd.jupyter.widget-view+json": {
       "model_id": "67833d4b04544585ad0f373eb3593b81",
       "version_major": 2,
       "version_minor": 0
      },
      "text/plain": [
       "HBox(children=(FloatProgress(value=0.0, max=4620.0), HTML(value='')))"
      ]
     },
     "metadata": {},
     "output_type": "display_data"
    },
    {
     "name": "stdout",
     "output_type": "stream",
     "text": [
      "\n"
     ]
    },
    {
     "data": {
      "application/vnd.jupyter.widget-view+json": {
       "model_id": "5cffa69e752a4fe58586b00762f55214",
       "version_major": 2,
       "version_minor": 0
      },
      "text/plain": [
       "HBox(children=(FloatProgress(value=0.0, max=1680.0), HTML(value='')))"
      ]
     },
     "metadata": {},
     "output_type": "display_data"
    },
    {
     "name": "stdout",
     "output_type": "stream",
     "text": [
      "\n"
     ]
    }
   ],
   "source": [
    "chars_to_ignore_regex = '[\\,\\?\\.\\!\\-\\;\\:\\\"]'\n",
    "\n",
    "def remove_special_characters(batch):\n",
    "    batch[\"text\"] = re.sub(chars_to_ignore_regex, '', batch[\"text\"]).lower()\n",
    "    return batch\n",
    "\n",
    "timit = timit.map(remove_special_characters)"
   ]
  },
  {
   "cell_type": "code",
   "execution_count": 5,
   "id": "5eb64caa-47b1-4ad0-b3b7-fc21470fe2a9",
   "metadata": {
    "tags": []
   },
   "outputs": [
    {
     "data": {
      "text/html": [
       "<div>\n",
       "<style scoped>\n",
       "    .dataframe tbody tr th:only-of-type {\n",
       "        vertical-align: middle;\n",
       "    }\n",
       "\n",
       "    .dataframe tbody tr th {\n",
       "        vertical-align: top;\n",
       "    }\n",
       "\n",
       "    .dataframe thead th {\n",
       "        text-align: right;\n",
       "    }\n",
       "</style>\n",
       "<table border=\"1\" class=\"dataframe\">\n",
       "  <thead>\n",
       "    <tr style=\"text-align: right;\">\n",
       "      <th></th>\n",
       "      <th>text</th>\n",
       "    </tr>\n",
       "  </thead>\n",
       "  <tbody>\n",
       "    <tr>\n",
       "      <th>0</th>\n",
       "      <td>alfalfa is healthy for you</td>\n",
       "    </tr>\n",
       "    <tr>\n",
       "      <th>1</th>\n",
       "      <td>allow each child to have an ice pop</td>\n",
       "    </tr>\n",
       "    <tr>\n",
       "      <th>2</th>\n",
       "      <td>the guerrilla bivouac remained silent</td>\n",
       "    </tr>\n",
       "    <tr>\n",
       "      <th>3</th>\n",
       "      <td>do you have the yellow ointment ready</td>\n",
       "    </tr>\n",
       "    <tr>\n",
       "      <th>4</th>\n",
       "      <td>junior what on earth's the matter with you</td>\n",
       "    </tr>\n",
       "    <tr>\n",
       "      <th>5</th>\n",
       "      <td>employee layoffs coincided with the company's ...</td>\n",
       "    </tr>\n",
       "    <tr>\n",
       "      <th>6</th>\n",
       "      <td>count the number of teaspoons of soysauce that...</td>\n",
       "    </tr>\n",
       "    <tr>\n",
       "      <th>7</th>\n",
       "      <td>butterscotch fudge goes well with vanilla ice ...</td>\n",
       "    </tr>\n",
       "    <tr>\n",
       "      <th>8</th>\n",
       "      <td>they are not true because scientists or prophe...</td>\n",
       "    </tr>\n",
       "    <tr>\n",
       "      <th>9</th>\n",
       "      <td>coconut cream pie makes a nice dessert</td>\n",
       "    </tr>\n",
       "  </tbody>\n",
       "</table>\n",
       "</div>"
      ],
      "text/plain": [
       "                                                text\n",
       "0                         alfalfa is healthy for you\n",
       "1                allow each child to have an ice pop\n",
       "2              the guerrilla bivouac remained silent\n",
       "3              do you have the yellow ointment ready\n",
       "4         junior what on earth's the matter with you\n",
       "5  employee layoffs coincided with the company's ...\n",
       "6  count the number of teaspoons of soysauce that...\n",
       "7  butterscotch fudge goes well with vanilla ice ...\n",
       "8  they are not true because scientists or prophe...\n",
       "9             coconut cream pie makes a nice dessert"
      ]
     },
     "metadata": {},
     "output_type": "display_data"
    }
   ],
   "source": [
    "show_samples(timit[\"train\"].remove_columns([\"file\"]))"
   ]
  },
  {
   "cell_type": "code",
   "execution_count": 6,
   "id": "5f87000c-41e6-44b0-a794-b0f9d7b61e0b",
   "metadata": {
    "tags": []
   },
   "outputs": [
    {
     "data": {
      "application/vnd.jupyter.widget-view+json": {
       "model_id": "6bd276883ad646e99085defea2075436",
       "version_major": 2,
       "version_minor": 0
      },
      "text/plain": [
       "HBox(children=(FloatProgress(value=0.0, max=1.0), HTML(value='')))"
      ]
     },
     "metadata": {},
     "output_type": "display_data"
    },
    {
     "name": "stdout",
     "output_type": "stream",
     "text": [
      "\n"
     ]
    },
    {
     "data": {
      "application/vnd.jupyter.widget-view+json": {
       "model_id": "0d5d62280d1a4a6f873c0e82ffbc889f",
       "version_major": 2,
       "version_minor": 0
      },
      "text/plain": [
       "HBox(children=(FloatProgress(value=0.0, max=1.0), HTML(value='')))"
      ]
     },
     "metadata": {},
     "output_type": "display_data"
    },
    {
     "name": "stdout",
     "output_type": "stream",
     "text": [
      "\n"
     ]
    }
   ],
   "source": [
    "def extract_all_chars(batch):\n",
    "    all_text = \" \".join(batch[\"text\"])\n",
    "    vocab = list(set(all_text))\n",
    "    return {\"vocab\": [vocab], \"all_text\": [all_text]}\n",
    "\n",
    "vocabs = timit.map(extract_all_chars,\n",
    "                   batched=True,\n",
    "                   batch_size=-1, \n",
    "                   keep_in_memory=True, \n",
    "                   remove_columns=timit.column_names[\"train\"])"
   ]
  },
  {
   "cell_type": "code",
   "execution_count": 7,
   "id": "6584d85a-cdc7-47c9-9afe-65a996d33d35",
   "metadata": {
    "collapsed": true,
    "jupyter": {
     "outputs_hidden": true
    },
    "tags": []
   },
   "outputs": [
    {
     "data": {
      "text/plain": [
       "{'i': 0,\n",
       " \"'\": 1,\n",
       " 'h': 2,\n",
       " 'g': 3,\n",
       " 'm': 4,\n",
       " 'f': 5,\n",
       " 'u': 6,\n",
       " 'c': 7,\n",
       " 'w': 8,\n",
       " 'e': 9,\n",
       " 'l': 10,\n",
       " 'o': 11,\n",
       " 'n': 12,\n",
       " 't': 13,\n",
       " 'z': 14,\n",
       " 'b': 15,\n",
       " 'x': 16,\n",
       " 'd': 17,\n",
       " 'p': 18,\n",
       " 'k': 19,\n",
       " ' ': 20,\n",
       " 'r': 21,\n",
       " 's': 22,\n",
       " 'y': 23,\n",
       " 'q': 24,\n",
       " 'a': 25,\n",
       " 'v': 26,\n",
       " 'j': 27}"
      ]
     },
     "execution_count": 7,
     "metadata": {},
     "output_type": "execute_result"
    }
   ],
   "source": [
    "vocab_list = list(set(vocabs[\"train\"][\"vocab\"][0]) | set(vocabs[\"test\"][\"vocab\"][0]))\n",
    "\n",
    "vocab_dict = {v: k for k, v in enumerate(vocab_list)}\n",
    "vocab_dict"
   ]
  },
  {
   "cell_type": "code",
   "execution_count": 8,
   "id": "df8d0ac2-3178-459e-aca0-0930af397103",
   "metadata": {},
   "outputs": [
    {
     "data": {
      "text/plain": [
       "20"
      ]
     },
     "execution_count": 8,
     "metadata": {},
     "output_type": "execute_result"
    }
   ],
   "source": [
    "\"\"\"\n",
    "Trocando ' ' por '|'\n",
    "\"\"\"\n",
    "\n",
    "vocab_dict[\"|\"] = vocab_dict[\" \"]\n",
    "vocab_dict.pop(\" \")"
   ]
  },
  {
   "cell_type": "code",
   "execution_count": 9,
   "id": "67b8a264-c98f-4187-b1bc-b5f02aed7114",
   "metadata": {},
   "outputs": [],
   "source": [
    "\"\"\"\n",
    "Adiciona o blank token (componente core no algoritmo do CTC). \n",
    "\"\"\"\n",
    "vocab_dict[\"[UNK]\"] = len(vocab_dict)\n",
    "vocab_dict[\"[PAD]\"] = len(vocab_dict)\n",
    "print(len(vocab_dict))"
   ]
  },
  {
   "cell_type": "code",
   "execution_count": 10,
   "id": "9e2c7b8e-b522-455c-be17-335598f1a8b3",
   "metadata": {},
   "outputs": [],
   "source": [
    "with open('vocab.json', 'w') as vocab_file:\n",
    "    json.dump(vocab_dict, vocab_file)"
   ]
  },
  {
   "cell_type": "code",
   "execution_count": 11,
   "id": "4b7091eb-6266-4e6f-a571-79b51a0eda0f",
   "metadata": {},
   "outputs": [],
   "source": [
    "tokenizer = Wav2Vec2CTCTokenizer(\"./vocab.json\", \n",
    "                                 unk_token=\"[UNK]\", \n",
    "                                 pad_token=\"[PAD]\", \n",
    "                                 word_delimiter_token=\"|\")"
   ]
  },
  {
   "cell_type": "code",
   "execution_count": 12,
   "id": "42e13883-1248-4984-b085-42662f707dd5",
   "metadata": {},
   "outputs": [],
   "source": [
    "\"\"\"\n",
    "É importante saber o sampling_rate do embedding onde os embeddings foram pré treinados.\n",
    "\"\"\"\n",
    "\n",
    "feature_extractor = Wav2Vec2FeatureExtractor(feature_size=1, \n",
    "                                             sampling_rate=16000, \n",
    "                                             padding_value=0.0, \n",
    "                                             do_normalize=True, \n",
    "                                             return_attention_mask=False)"
   ]
  },
  {
   "cell_type": "code",
   "execution_count": 15,
   "id": "9f3be3e8-3d25-416f-83b4-3953b8de407d",
   "metadata": {},
   "outputs": [],
   "source": [
    "processor = Wav2Vec2Processor(feature_extractor=feature_extractor, tokenizer=tokenizer)"
   ]
  },
  {
   "cell_type": "code",
   "execution_count": 16,
   "id": "f631dab6-7d49-4ccb-b5e3-4d8d0522d9e7",
   "metadata": {},
   "outputs": [
    {
     "name": "stdout",
     "output_type": "stream",
     "text": [
      "\n",
      "\n",
      "\n",
      "\n",
      "\n",
      "\n",
      "\n",
      "\n"
     ]
    }
   ],
   "source": [
    "def speech_file_to_array_fn(batch):\n",
    "    speech_array, sampling_rate = sf.read(batch[\"file\"])\n",
    "    batch[\"speech\"] = speech_array\n",
    "    batch[\"sampling_rate\"] = sampling_rate\n",
    "    batch[\"target_text\"] = batch[\"text\"]\n",
    "    return batch\n",
    "\n",
    "timit = timit.map(speech_file_to_array_fn, remove_columns=timit.column_names[\"train\"], num_proc=4)"
   ]
  },
  {
   "cell_type": "code",
   "execution_count": 17,
   "id": "141a4e0e-0c64-4b8b-a5ed-7c3778a26454",
   "metadata": {},
   "outputs": [
    {
     "data": {
      "text/html": [
       "\n",
       "                <audio  controls=\"controls\" autoplay=\"autoplay\">\n",
       "                    <source src=\"data:audio/wav;base64,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\" type=\"audio/wav\" />\n",
       "                    Your browser does not support the audio element.\n",
       "                </audio>\n",
       "              "
      ],
      "text/plain": [
       "<IPython.lib.display.Audio object>"
      ]
     },
     "execution_count": 17,
     "metadata": {},
     "output_type": "execute_result"
    }
   ],
   "source": [
    "rand_int = random.randint(0, len(timit[\"train\"]))\n",
    "\n",
    "ipd.Audio(data=np.asarray(timit[\"train\"][rand_int][\"speech\"]), autoplay=True, rate=16000)"
   ]
  },
  {
   "cell_type": "code",
   "execution_count": 18,
   "id": "05d7800a-2c58-4d6b-bf31-bae3a2a57953",
   "metadata": {},
   "outputs": [
    {
     "name": "stdout",
     "output_type": "stream",
     "text": [
      "Target text: most young rise early every morning\n",
      "Input array shape: (34714,)\n",
      "Sampling rate: 16000\n"
     ]
    }
   ],
   "source": [
    "rand_int = random.randint(0, len(timit[\"train\"]))\n",
    "\n",
    "print(\"Target text:\", timit[\"train\"][rand_int][\"target_text\"])\n",
    "print(\"Input array shape:\", np.asarray(timit[\"train\"][rand_int][\"speech\"]).shape)\n",
    "print(\"Sampling rate:\", timit[\"train\"][rand_int][\"sampling_rate\"])"
   ]
  },
  {
   "cell_type": "code",
   "execution_count": 19,
   "id": "03769c97-00e9-4e09-9d84-f3d2ef91eccd",
   "metadata": {
    "collapsed": true,
    "jupyter": {
     "outputs_hidden": true
    },
    "tags": []
   },
   "outputs": [
    {
     "name": "stderr",
     "output_type": "stream",
     "text": [
      "/home/rocabrera/.pyenv/versions/venv_ped/lib/python3.7/site-packages/transformers/feature_extraction_utils.py:158: VisibleDeprecationWarning: Creating an ndarray from ragged nested sequences (which is a list-or-tuple of lists-or-tuples-or ndarrays with different lengths or shapes) is deprecated. If you meant to do this, you must specify 'dtype=object' when creating the ndarray.\n",
      "  tensor = as_tensor(value)\n",
      "/home/rocabrera/.pyenv/versions/venv_ped/lib/python3.7/site-packages/transformers/feature_extraction_utils.py:158: VisibleDeprecationWarning: Creating an ndarray from ragged nested sequences (which is a list-or-tuple of lists-or-tuples-or ndarrays with different lengths or shapes) is deprecated. If you meant to do this, you must specify 'dtype=object' when creating the ndarray.\n",
      "  tensor = as_tensor(value)\n",
      "/home/rocabrera/.pyenv/versions/venv_ped/lib/python3.7/site-packages/transformers/feature_extraction_utils.py:158: VisibleDeprecationWarning: Creating an ndarray from ragged nested sequences (which is a list-or-tuple of lists-or-tuples-or ndarrays with different lengths or shapes) is deprecated. If you meant to do this, you must specify 'dtype=object' when creating the ndarray.\n",
      "  tensor = as_tensor(value)\n",
      "/home/rocabrera/.pyenv/versions/venv_ped/lib/python3.7/site-packages/transformers/feature_extraction_utils.py:158: VisibleDeprecationWarning: Creating an ndarray from ragged nested sequences (which is a list-or-tuple of lists-or-tuples-or ndarrays with different lengths or shapes) is deprecated. If you meant to do this, you must specify 'dtype=object' when creating the ndarray.\n",
      "  tensor = as_tensor(value)\n"
     ]
    },
    {
     "name": "stdout",
     "output_type": "stream",
     "text": [
      "\n",
      "\n",
      "\n",
      "\n"
     ]
    },
    {
     "name": "stderr",
     "output_type": "stream",
     "text": [
      "/home/rocabrera/.pyenv/versions/venv_ped/lib/python3.7/site-packages/transformers/feature_extraction_utils.py:158: VisibleDeprecationWarning: Creating an ndarray from ragged nested sequences (which is a list-or-tuple of lists-or-tuples-or ndarrays with different lengths or shapes) is deprecated. If you meant to do this, you must specify 'dtype=object' when creating the ndarray.\n",
      "  tensor = as_tensor(value)\n",
      "/home/rocabrera/.pyenv/versions/venv_ped/lib/python3.7/site-packages/transformers/feature_extraction_utils.py:158: VisibleDeprecationWarning: Creating an ndarray from ragged nested sequences (which is a list-or-tuple of lists-or-tuples-or ndarrays with different lengths or shapes) is deprecated. If you meant to do this, you must specify 'dtype=object' when creating the ndarray.\n",
      "  tensor = as_tensor(value)\n",
      "/home/rocabrera/.pyenv/versions/venv_ped/lib/python3.7/site-packages/transformers/feature_extraction_utils.py:158: VisibleDeprecationWarning: Creating an ndarray from ragged nested sequences (which is a list-or-tuple of lists-or-tuples-or ndarrays with different lengths or shapes) is deprecated. If you meant to do this, you must specify 'dtype=object' when creating the ndarray.\n",
      "  tensor = as_tensor(value)\n",
      "/home/rocabrera/.pyenv/versions/venv_ped/lib/python3.7/site-packages/transformers/feature_extraction_utils.py:158: VisibleDeprecationWarning: Creating an ndarray from ragged nested sequences (which is a list-or-tuple of lists-or-tuples-or ndarrays with different lengths or shapes) is deprecated. If you meant to do this, you must specify 'dtype=object' when creating the ndarray.\n",
      "  tensor = as_tensor(value)\n"
     ]
    },
    {
     "name": "stdout",
     "output_type": "stream",
     "text": [
      "\n",
      "\n",
      "\n",
      "\n"
     ]
    }
   ],
   "source": [
    "\"\"\"\n",
    "Vai precisar entender e adaptar:\n",
    "\n",
    "https://huggingface.co/transformers/master/model_doc/wav2vec2.html#transformers.Wav2Vec2Processor.__call__\n",
    "\"\"\"\n",
    "\n",
    "def prepare_dataset(batch):\n",
    "    # check that all files have the correct sampling rate\n",
    "    assert (\n",
    "        len(set(batch[\"sampling_rate\"])) == 1\n",
    "    ), f\"Make sure all inputs have the same sampling rate of {processor.feature_extractor.sampling_rate}.\"\n",
    "\n",
    "    batch[\"input_values\"] = processor(batch[\"speech\"], sampling_rate=batch[\"sampling_rate\"][0]).input_values\n",
    "\n",
    "    with processor.as_target_processor():\n",
    "        batch[\"labels\"] = processor(batch[\"target_text\"]).input_ids\n",
    "    return batch\n",
    "\n",
    "timit_prepared = timit.map(prepare_dataset, remove_columns=timit.column_names[\"train\"], batch_size=8, num_proc=4, batched=True)"
   ]
  },
  {
   "cell_type": "code",
   "execution_count": 20,
   "id": "35c95b81-0887-450e-88dc-7eb7b251e09f",
   "metadata": {},
   "outputs": [],
   "source": [
    "@dataclass\n",
    "class DataCollatorCTCWithPadding:\n",
    "    \"\"\"\n",
    "    Data collator that will dynamically pad the inputs received.\n",
    "    Args:\n",
    "        processor (:class:`~transformers.Wav2Vec2Processor`)\n",
    "            The processor used for proccessing the data.\n",
    "        padding (:obj:`bool`, :obj:`str` or :class:`~transformers.tokenization_utils_base.PaddingStrategy`, `optional`, defaults to :obj:`True`):\n",
    "            Select a strategy to pad the returned sequences (according to the model's padding side and padding index)\n",
    "            among:\n",
    "            * :obj:`True` or :obj:`'longest'`: Pad to the longest sequence in the batch (or no padding if only a single\n",
    "              sequence if provided).\n",
    "            * :obj:`'max_length'`: Pad to a maximum length specified with the argument :obj:`max_length` or to the\n",
    "              maximum acceptable input length for the model if that argument is not provided.\n",
    "            * :obj:`False` or :obj:`'do_not_pad'` (default): No padding (i.e., can output a batch with sequences of\n",
    "              different lengths).\n",
    "        max_length (:obj:`int`, `optional`):\n",
    "            Maximum length of the ``input_values`` of the returned list and optionally padding length (see above).\n",
    "        max_length_labels (:obj:`int`, `optional`):\n",
    "            Maximum length of the ``labels`` returned list and optionally padding length (see above).\n",
    "        pad_to_multiple_of (:obj:`int`, `optional`):\n",
    "            If set will pad the sequence to a multiple of the provided value.\n",
    "            This is especially useful to enable the use of Tensor Cores on NVIDIA hardware with compute capability >=\n",
    "            7.5 (Volta).\n",
    "    \"\"\"\n",
    "\n",
    "    processor: Wav2Vec2Processor\n",
    "    padding: Union[bool, str] = True\n",
    "    max_length: Optional[int] = None\n",
    "    max_length_labels: Optional[int] = None\n",
    "    pad_to_multiple_of: Optional[int] = None\n",
    "    pad_to_multiple_of_labels: Optional[int] = None\n",
    "\n",
    "    def __call__(self, features: List[Dict[str, Union[List[int], torch.Tensor]]]) -> Dict[str, torch.Tensor]:\n",
    "        # split inputs and labels since they have to be of different lenghts and need\n",
    "        # different padding methods\n",
    "        input_features = [{\"input_values\": feature[\"input_values\"]} for feature in features]\n",
    "        label_features = [{\"input_ids\": feature[\"labels\"]} for feature in features]\n",
    "\n",
    "        batch = self.processor.pad(\n",
    "            input_features,\n",
    "            padding=self.padding,\n",
    "            max_length=self.max_length,\n",
    "            pad_to_multiple_of=self.pad_to_multiple_of,\n",
    "            return_tensors=\"pt\",\n",
    "        )\n",
    "        with self.processor.as_target_processor():\n",
    "            labels_batch = self.processor.pad(\n",
    "                label_features,\n",
    "                padding=self.padding,\n",
    "                max_length=self.max_length_labels,\n",
    "                pad_to_multiple_of=self.pad_to_multiple_of_labels,\n",
    "                return_tensors=\"pt\",\n",
    "            )\n",
    "\n",
    "        # replace padding with -100 to ignore loss correctly\n",
    "        labels = labels_batch[\"input_ids\"].masked_fill(labels_batch.attention_mask.ne(1), -100)\n",
    "\n",
    "        batch[\"labels\"] = labels\n",
    "\n",
    "        return batch\n",
    "    \n",
    "data_collator = DataCollatorCTCWithPadding(processor=processor, padding=True)"
   ]
  },
  {
   "cell_type": "code",
   "execution_count": 21,
   "id": "dbf713b2-99c1-4fc3-9f2d-8dd141764895",
   "metadata": {},
   "outputs": [],
   "source": [
    "wer_metric = load_metric(\"wer\")"
   ]
  },
  {
   "cell_type": "code",
   "execution_count": 23,
   "id": "d8fd8ffc-c4e7-4138-ac6e-776a024942d5",
   "metadata": {},
   "outputs": [],
   "source": [
    "def compute_metrics(pred):\n",
    "    pred_logits = pred.predictions\n",
    "    pred_ids = np.argmax(pred_logits, axis=-1)\n",
    "\n",
    "    pred.label_ids[pred.label_ids == -100] = processor.tokenizer.pad_token_id\n",
    "\n",
    "    pred_str = processor.batch_decode(pred_ids)\n",
    "    # we do not want to group tokens when computing the metrics\n",
    "    label_str = processor.batch_decode(pred.label_ids, group_tokens=False)\n",
    "\n",
    "    wer = wer_metric.compute(predictions=pred_str, references=label_str)\n",
    "\n",
    "    return {\"wer\": wer}"
   ]
  },
  {
   "cell_type": "code",
   "execution_count": 24,
   "id": "8d9db0fc-d776-4af8-a2ac-2e94dc83ac3d",
   "metadata": {},
   "outputs": [
    {
     "name": "stderr",
     "output_type": "stream",
     "text": [
      "Some weights of the model checkpoint at facebook/wav2vec2-base were not used when initializing Wav2Vec2ForCTC: ['quantizer.codevectors', 'quantizer.weight_proj.weight', 'quantizer.weight_proj.bias', 'project_q.weight', 'project_q.bias', 'project_hid.weight', 'project_hid.bias']\n",
      "- This IS expected if you are initializing Wav2Vec2ForCTC from the checkpoint of a model trained on another task or with another architecture (e.g. initializing a BertForSequenceClassification model from a BertForPreTraining model).\n",
      "- This IS NOT expected if you are initializing Wav2Vec2ForCTC from the checkpoint of a model that you expect to be exactly identical (initializing a BertForSequenceClassification model from a BertForSequenceClassification model).\n",
      "Some weights of Wav2Vec2ForCTC were not initialized from the model checkpoint at facebook/wav2vec2-base and are newly initialized: ['lm_head.weight', 'lm_head.bias']\n",
      "You should probably TRAIN this model on a down-stream task to be able to use it for predictions and inference.\n"
     ]
    }
   ],
   "source": [
    "model = Wav2Vec2ForCTC.from_pretrained(\"facebook/wav2vec2-base\", \n",
    "                                       gradient_checkpointing=True, \n",
    "                                       ctc_loss_reduction=\"mean\", \n",
    "                                       pad_token_id=processor.tokenizer.pad_token_id,)"
   ]
  },
  {
   "cell_type": "code",
   "execution_count": 25,
   "id": "29f3a363-6717-44e4-b438-5dfa50b388bd",
   "metadata": {},
   "outputs": [],
   "source": [
    "training_args = TrainingArguments(\n",
    "  # output_dir=\"/content/gdrive/MyDrive/wav2vec2-base-timit-demo\",\n",
    "  output_dir=\"./wav2vec2-base-timit-demo\",\n",
    "  group_by_length=True,\n",
    "  per_device_train_batch_size=8,\n",
    "  evaluation_strategy=\"steps\",\n",
    "  num_train_epochs=30,\n",
    "  fp16=True,\n",
    "  save_steps=500,\n",
    "  eval_steps=500,\n",
    "  logging_steps=500,\n",
    "  learning_rate=1e-4,\n",
    "  weight_decay=0.005,\n",
    "  warmup_steps=1000,\n",
    "  save_total_limit=2,)"
   ]
  },
  {
   "cell_type": "code",
   "execution_count": 26,
   "id": "be30edda-97e8-4bbd-9fd8-d767342dafb3",
   "metadata": {},
   "outputs": [],
   "source": [
    "trainer = Trainer(model=model,\n",
    "                  data_collator=data_collator,\n",
    "                  args=training_args,\n",
    "                  compute_metrics=compute_metrics,\n",
    "                  train_dataset=timit_prepared[\"train\"],\n",
    "                  eval_dataset=timit_prepared[\"test\"],\n",
    "                  tokenizer=processor.feature_extractor,)"
   ]
  },
  {
   "cell_type": "code",
   "execution_count": 27,
   "id": "2c41df4e-2484-4cd0-9541-a623bce9dcb9",
   "metadata": {},
   "outputs": [
    {
     "data": {
      "text/plain": [
       "True"
      ]
     },
     "execution_count": 27,
     "metadata": {},
     "output_type": "execute_result"
    }
   ],
   "source": [
    "torch.cuda.is_available()"
   ]
  },
  {
   "cell_type": "code",
   "execution_count": 28,
   "id": "cb7cf065-5fac-4cbc-8885-ff5a40ad44d6",
   "metadata": {
    "collapsed": true,
    "jupyter": {
     "outputs_hidden": true
    },
    "tags": []
   },
   "outputs": [
    {
     "name": "stderr",
     "output_type": "stream",
     "text": [
      "/home/rocabrera/.pyenv/versions/venv_ped/lib/python3.7/site-packages/torch/optim/lr_scheduler.py:136: UserWarning: Detected call of `lr_scheduler.step()` before `optimizer.step()`. In PyTorch 1.1.0 and later, you should call them in the opposite order: `optimizer.step()` before `lr_scheduler.step()`.  Failure to do this will result in PyTorch skipping the first value of the learning rate schedule. See more details at https://pytorch.org/docs/stable/optim.html#how-to-adjust-learning-rate\n",
      "  \"https://pytorch.org/docs/stable/optim.html#how-to-adjust-learning-rate\", UserWarning)\n"
     ]
    },
    {
     "data": {
      "text/html": [
       "\n",
       "    <div>\n",
       "        <style>\n",
       "            /* Turns off some styling */\n",
       "            progress {\n",
       "                /* gets rid of default border in Firefox and Opera. */\n",
       "                border: none;\n",
       "                /* Needs to be in here for Safari polyfill so background images work as expected. */\n",
       "                background-size: auto;\n",
       "            }\n",
       "        </style>\n",
       "      \n",
       "      <progress value='5001' max='17340' style='width:300px; height:20px; vertical-align: middle;'></progress>\n",
       "      [ 5001/17340 1:04:28 < 2:39:08, 1.29 it/s, Epoch 8.65/30]\n",
       "    </div>\n",
       "    <table border=\"1\" class=\"dataframe\">\n",
       "  <thead>\n",
       "    <tr style=\"text-align: left;\">\n",
       "      <th>Step</th>\n",
       "      <th>Training Loss</th>\n",
       "      <th>Validation Loss</th>\n",
       "      <th>Wer</th>\n",
       "      <th>Runtime</th>\n",
       "      <th>Samples Per Second</th>\n",
       "    </tr>\n",
       "  </thead>\n",
       "  <tbody>\n",
       "    <tr>\n",
       "      <td>500</td>\n",
       "      <td>3.803900</td>\n",
       "      <td>3.046154</td>\n",
       "      <td>0.998070</td>\n",
       "      <td>88.514400</td>\n",
       "      <td>18.980000</td>\n",
       "    </tr>\n",
       "    <tr>\n",
       "      <td>1000</td>\n",
       "      <td>1.453400</td>\n",
       "      <td>0.665251</td>\n",
       "      <td>0.539315</td>\n",
       "      <td>89.264500</td>\n",
       "      <td>18.820000</td>\n",
       "    </tr>\n",
       "    <tr>\n",
       "      <td>1500</td>\n",
       "      <td>0.597800</td>\n",
       "      <td>0.497777</td>\n",
       "      <td>0.433740</td>\n",
       "      <td>90.033500</td>\n",
       "      <td>18.660000</td>\n",
       "    </tr>\n",
       "    <tr>\n",
       "      <td>2000</td>\n",
       "      <td>0.405900</td>\n",
       "      <td>0.468680</td>\n",
       "      <td>0.400662</td>\n",
       "      <td>89.914400</td>\n",
       "      <td>18.684000</td>\n",
       "    </tr>\n",
       "    <tr>\n",
       "      <td>2500</td>\n",
       "      <td>0.290700</td>\n",
       "      <td>0.454023</td>\n",
       "      <td>0.376266</td>\n",
       "      <td>89.102400</td>\n",
       "      <td>18.855000</td>\n",
       "    </tr>\n",
       "    <tr>\n",
       "      <td>3000</td>\n",
       "      <td>0.264900</td>\n",
       "      <td>0.480012</td>\n",
       "      <td>0.363586</td>\n",
       "      <td>89.209300</td>\n",
       "      <td>18.832000</td>\n",
       "    </tr>\n",
       "    <tr>\n",
       "      <td>3500</td>\n",
       "      <td>0.209500</td>\n",
       "      <td>0.465324</td>\n",
       "      <td>0.350286</td>\n",
       "      <td>88.531500</td>\n",
       "      <td>18.976000</td>\n",
       "    </tr>\n",
       "    <tr>\n",
       "      <td>4000</td>\n",
       "      <td>0.187300</td>\n",
       "      <td>0.418406</td>\n",
       "      <td>0.351389</td>\n",
       "      <td>88.477800</td>\n",
       "      <td>18.988000</td>\n",
       "    </tr>\n",
       "    <tr>\n",
       "      <td>4500</td>\n",
       "      <td>0.184600</td>\n",
       "      <td>0.444803</td>\n",
       "      <td>0.336090</td>\n",
       "      <td>88.914300</td>\n",
       "      <td>18.895000</td>\n",
       "    </tr>\n",
       "  </tbody>\n",
       "</table><p>\n",
       "    <div>\n",
       "        <style>\n",
       "            /* Turns off some styling */\n",
       "            progress {\n",
       "                /* gets rid of default border in Firefox and Opera. */\n",
       "                border: none;\n",
       "                /* Needs to be in here for Safari polyfill so background images work as expected. */\n",
       "                background-size: auto;\n",
       "            }\n",
       "        </style>\n",
       "      \n",
       "      <progress value='1' max='210' style='width:300px; height:20px; vertical-align: middle;'></progress>\n",
       "      [  1/210 : < :]\n",
       "    </div>\n",
       "    "
      ],
      "text/plain": [
       "<IPython.core.display.HTML object>"
      ]
     },
     "metadata": {},
     "output_type": "display_data"
    },
    {
     "ename": "KeyboardInterrupt",
     "evalue": "",
     "output_type": "error",
     "traceback": [
      "\u001b[0;31m---------------------------------------------------------------------------\u001b[0m",
      "\u001b[0;31mKeyboardInterrupt\u001b[0m                         Traceback (most recent call last)",
      "\u001b[0;32m/tmp/ipykernel_10604/4032920361.py\u001b[0m in \u001b[0;36m<module>\u001b[0;34m\u001b[0m\n\u001b[0;32m----> 1\u001b[0;31m \u001b[0mtrainer\u001b[0m\u001b[0;34m.\u001b[0m\u001b[0mtrain\u001b[0m\u001b[0;34m(\u001b[0m\u001b[0;34m)\u001b[0m\u001b[0;34m\u001b[0m\u001b[0;34m\u001b[0m\u001b[0m\n\u001b[0m",
      "\u001b[0;32m~/.pyenv/versions/venv_ped/lib/python3.7/site-packages/transformers/trainer.py\u001b[0m in \u001b[0;36mtrain\u001b[0;34m(self, resume_from_checkpoint, trial, **kwargs)\u001b[0m\n\u001b[1;32m   1103\u001b[0m                     \u001b[0mself\u001b[0m\u001b[0;34m.\u001b[0m\u001b[0mcontrol\u001b[0m \u001b[0;34m=\u001b[0m \u001b[0mself\u001b[0m\u001b[0;34m.\u001b[0m\u001b[0mcallback_handler\u001b[0m\u001b[0;34m.\u001b[0m\u001b[0mon_step_end\u001b[0m\u001b[0;34m(\u001b[0m\u001b[0mself\u001b[0m\u001b[0;34m.\u001b[0m\u001b[0margs\u001b[0m\u001b[0;34m,\u001b[0m \u001b[0mself\u001b[0m\u001b[0;34m.\u001b[0m\u001b[0mstate\u001b[0m\u001b[0;34m,\u001b[0m \u001b[0mself\u001b[0m\u001b[0;34m.\u001b[0m\u001b[0mcontrol\u001b[0m\u001b[0;34m)\u001b[0m\u001b[0;34m\u001b[0m\u001b[0;34m\u001b[0m\u001b[0m\n\u001b[1;32m   1104\u001b[0m \u001b[0;34m\u001b[0m\u001b[0m\n\u001b[0;32m-> 1105\u001b[0;31m                     \u001b[0mself\u001b[0m\u001b[0;34m.\u001b[0m\u001b[0m_maybe_log_save_evaluate\u001b[0m\u001b[0;34m(\u001b[0m\u001b[0mtr_loss\u001b[0m\u001b[0;34m,\u001b[0m \u001b[0mmodel\u001b[0m\u001b[0;34m,\u001b[0m \u001b[0mtrial\u001b[0m\u001b[0;34m,\u001b[0m \u001b[0mepoch\u001b[0m\u001b[0;34m)\u001b[0m\u001b[0;34m\u001b[0m\u001b[0;34m\u001b[0m\u001b[0m\n\u001b[0m\u001b[1;32m   1106\u001b[0m \u001b[0;34m\u001b[0m\u001b[0m\n\u001b[1;32m   1107\u001b[0m                 \u001b[0;32mif\u001b[0m \u001b[0mself\u001b[0m\u001b[0;34m.\u001b[0m\u001b[0mcontrol\u001b[0m\u001b[0;34m.\u001b[0m\u001b[0mshould_epoch_stop\u001b[0m \u001b[0;32mor\u001b[0m \u001b[0mself\u001b[0m\u001b[0;34m.\u001b[0m\u001b[0mcontrol\u001b[0m\u001b[0;34m.\u001b[0m\u001b[0mshould_training_stop\u001b[0m\u001b[0;34m:\u001b[0m\u001b[0;34m\u001b[0m\u001b[0;34m\u001b[0m\u001b[0m\n",
      "\u001b[0;32m~/.pyenv/versions/venv_ped/lib/python3.7/site-packages/transformers/trainer.py\u001b[0m in \u001b[0;36m_maybe_log_save_evaluate\u001b[0;34m(self, tr_loss, model, trial, epoch)\u001b[0m\n\u001b[1;32m   1196\u001b[0m         \u001b[0mmetrics\u001b[0m \u001b[0;34m=\u001b[0m \u001b[0;32mNone\u001b[0m\u001b[0;34m\u001b[0m\u001b[0;34m\u001b[0m\u001b[0m\n\u001b[1;32m   1197\u001b[0m         \u001b[0;32mif\u001b[0m \u001b[0mself\u001b[0m\u001b[0;34m.\u001b[0m\u001b[0mcontrol\u001b[0m\u001b[0;34m.\u001b[0m\u001b[0mshould_evaluate\u001b[0m\u001b[0;34m:\u001b[0m\u001b[0;34m\u001b[0m\u001b[0;34m\u001b[0m\u001b[0m\n\u001b[0;32m-> 1198\u001b[0;31m             \u001b[0mmetrics\u001b[0m \u001b[0;34m=\u001b[0m \u001b[0mself\u001b[0m\u001b[0;34m.\u001b[0m\u001b[0mevaluate\u001b[0m\u001b[0;34m(\u001b[0m\u001b[0;34m)\u001b[0m\u001b[0;34m\u001b[0m\u001b[0;34m\u001b[0m\u001b[0m\n\u001b[0m\u001b[1;32m   1199\u001b[0m             \u001b[0mself\u001b[0m\u001b[0;34m.\u001b[0m\u001b[0m_report_to_hp_search\u001b[0m\u001b[0;34m(\u001b[0m\u001b[0mtrial\u001b[0m\u001b[0;34m,\u001b[0m \u001b[0mepoch\u001b[0m\u001b[0;34m,\u001b[0m \u001b[0mmetrics\u001b[0m\u001b[0;34m)\u001b[0m\u001b[0;34m\u001b[0m\u001b[0;34m\u001b[0m\u001b[0m\n\u001b[1;32m   1200\u001b[0m \u001b[0;34m\u001b[0m\u001b[0m\n",
      "\u001b[0;32m~/.pyenv/versions/venv_ped/lib/python3.7/site-packages/transformers/trainer.py\u001b[0m in \u001b[0;36mevaluate\u001b[0;34m(self, eval_dataset, ignore_keys, metric_key_prefix)\u001b[0m\n\u001b[1;32m   1672\u001b[0m             \u001b[0mprediction_loss_only\u001b[0m\u001b[0;34m=\u001b[0m\u001b[0;32mTrue\u001b[0m \u001b[0;32mif\u001b[0m \u001b[0mself\u001b[0m\u001b[0;34m.\u001b[0m\u001b[0mcompute_metrics\u001b[0m \u001b[0;32mis\u001b[0m \u001b[0;32mNone\u001b[0m \u001b[0;32melse\u001b[0m \u001b[0;32mNone\u001b[0m\u001b[0;34m,\u001b[0m\u001b[0;34m\u001b[0m\u001b[0;34m\u001b[0m\u001b[0m\n\u001b[1;32m   1673\u001b[0m             \u001b[0mignore_keys\u001b[0m\u001b[0;34m=\u001b[0m\u001b[0mignore_keys\u001b[0m\u001b[0;34m,\u001b[0m\u001b[0;34m\u001b[0m\u001b[0;34m\u001b[0m\u001b[0m\n\u001b[0;32m-> 1674\u001b[0;31m             \u001b[0mmetric_key_prefix\u001b[0m\u001b[0;34m=\u001b[0m\u001b[0mmetric_key_prefix\u001b[0m\u001b[0;34m,\u001b[0m\u001b[0;34m\u001b[0m\u001b[0;34m\u001b[0m\u001b[0m\n\u001b[0m\u001b[1;32m   1675\u001b[0m         )\n\u001b[1;32m   1676\u001b[0m \u001b[0;34m\u001b[0m\u001b[0m\n",
      "\u001b[0;32m~/.pyenv/versions/venv_ped/lib/python3.7/site-packages/transformers/trainer.py\u001b[0m in \u001b[0;36mprediction_loop\u001b[0;34m(self, dataloader, description, prediction_loss_only, ignore_keys, metric_key_prefix)\u001b[0m\n\u001b[1;32m   1797\u001b[0m         \u001b[0mself\u001b[0m\u001b[0;34m.\u001b[0m\u001b[0mcallback_handler\u001b[0m\u001b[0;34m.\u001b[0m\u001b[0meval_dataloader\u001b[0m \u001b[0;34m=\u001b[0m \u001b[0mdataloader\u001b[0m\u001b[0;34m\u001b[0m\u001b[0;34m\u001b[0m\u001b[0m\n\u001b[1;32m   1798\u001b[0m \u001b[0;34m\u001b[0m\u001b[0m\n\u001b[0;32m-> 1799\u001b[0;31m         \u001b[0;32mfor\u001b[0m \u001b[0mstep\u001b[0m\u001b[0;34m,\u001b[0m \u001b[0minputs\u001b[0m \u001b[0;32min\u001b[0m \u001b[0menumerate\u001b[0m\u001b[0;34m(\u001b[0m\u001b[0mdataloader\u001b[0m\u001b[0;34m)\u001b[0m\u001b[0;34m:\u001b[0m\u001b[0;34m\u001b[0m\u001b[0;34m\u001b[0m\u001b[0m\n\u001b[0m\u001b[1;32m   1800\u001b[0m             \u001b[0mloss\u001b[0m\u001b[0;34m,\u001b[0m \u001b[0mlogits\u001b[0m\u001b[0;34m,\u001b[0m \u001b[0mlabels\u001b[0m \u001b[0;34m=\u001b[0m \u001b[0mself\u001b[0m\u001b[0;34m.\u001b[0m\u001b[0mprediction_step\u001b[0m\u001b[0;34m(\u001b[0m\u001b[0mmodel\u001b[0m\u001b[0;34m,\u001b[0m \u001b[0minputs\u001b[0m\u001b[0;34m,\u001b[0m \u001b[0mprediction_loss_only\u001b[0m\u001b[0;34m,\u001b[0m \u001b[0mignore_keys\u001b[0m\u001b[0;34m=\u001b[0m\u001b[0mignore_keys\u001b[0m\u001b[0;34m)\u001b[0m\u001b[0;34m\u001b[0m\u001b[0;34m\u001b[0m\u001b[0m\n\u001b[1;32m   1801\u001b[0m             \u001b[0;32mif\u001b[0m \u001b[0mloss\u001b[0m \u001b[0;32mis\u001b[0m \u001b[0;32mnot\u001b[0m \u001b[0;32mNone\u001b[0m\u001b[0;34m:\u001b[0m\u001b[0;34m\u001b[0m\u001b[0;34m\u001b[0m\u001b[0m\n",
      "\u001b[0;32m~/.pyenv/versions/venv_ped/lib/python3.7/site-packages/torch/utils/data/dataloader.py\u001b[0m in \u001b[0;36m__next__\u001b[0;34m(self)\u001b[0m\n\u001b[1;32m    433\u001b[0m         \u001b[0;32mif\u001b[0m \u001b[0mself\u001b[0m\u001b[0;34m.\u001b[0m\u001b[0m_sampler_iter\u001b[0m \u001b[0;32mis\u001b[0m \u001b[0;32mNone\u001b[0m\u001b[0;34m:\u001b[0m\u001b[0;34m\u001b[0m\u001b[0;34m\u001b[0m\u001b[0m\n\u001b[1;32m    434\u001b[0m             \u001b[0mself\u001b[0m\u001b[0;34m.\u001b[0m\u001b[0m_reset\u001b[0m\u001b[0;34m(\u001b[0m\u001b[0;34m)\u001b[0m\u001b[0;34m\u001b[0m\u001b[0;34m\u001b[0m\u001b[0m\n\u001b[0;32m--> 435\u001b[0;31m         \u001b[0mdata\u001b[0m \u001b[0;34m=\u001b[0m \u001b[0mself\u001b[0m\u001b[0;34m.\u001b[0m\u001b[0m_next_data\u001b[0m\u001b[0;34m(\u001b[0m\u001b[0;34m)\u001b[0m\u001b[0;34m\u001b[0m\u001b[0;34m\u001b[0m\u001b[0m\n\u001b[0m\u001b[1;32m    436\u001b[0m         \u001b[0mself\u001b[0m\u001b[0;34m.\u001b[0m\u001b[0m_num_yielded\u001b[0m \u001b[0;34m+=\u001b[0m \u001b[0;36m1\u001b[0m\u001b[0;34m\u001b[0m\u001b[0;34m\u001b[0m\u001b[0m\n\u001b[1;32m    437\u001b[0m         \u001b[0;32mif\u001b[0m \u001b[0mself\u001b[0m\u001b[0;34m.\u001b[0m\u001b[0m_dataset_kind\u001b[0m \u001b[0;34m==\u001b[0m \u001b[0m_DatasetKind\u001b[0m\u001b[0;34m.\u001b[0m\u001b[0mIterable\u001b[0m \u001b[0;32mand\u001b[0m\u001b[0;31m \u001b[0m\u001b[0;31m\\\u001b[0m\u001b[0;34m\u001b[0m\u001b[0;34m\u001b[0m\u001b[0m\n",
      "\u001b[0;32m~/.pyenv/versions/venv_ped/lib/python3.7/site-packages/torch/utils/data/dataloader.py\u001b[0m in \u001b[0;36m_next_data\u001b[0;34m(self)\u001b[0m\n\u001b[1;32m    473\u001b[0m     \u001b[0;32mdef\u001b[0m \u001b[0m_next_data\u001b[0m\u001b[0;34m(\u001b[0m\u001b[0mself\u001b[0m\u001b[0;34m)\u001b[0m\u001b[0;34m:\u001b[0m\u001b[0;34m\u001b[0m\u001b[0;34m\u001b[0m\u001b[0m\n\u001b[1;32m    474\u001b[0m         \u001b[0mindex\u001b[0m \u001b[0;34m=\u001b[0m \u001b[0mself\u001b[0m\u001b[0;34m.\u001b[0m\u001b[0m_next_index\u001b[0m\u001b[0;34m(\u001b[0m\u001b[0;34m)\u001b[0m  \u001b[0;31m# may raise StopIteration\u001b[0m\u001b[0;34m\u001b[0m\u001b[0;34m\u001b[0m\u001b[0m\n\u001b[0;32m--> 475\u001b[0;31m         \u001b[0mdata\u001b[0m \u001b[0;34m=\u001b[0m \u001b[0mself\u001b[0m\u001b[0;34m.\u001b[0m\u001b[0m_dataset_fetcher\u001b[0m\u001b[0;34m.\u001b[0m\u001b[0mfetch\u001b[0m\u001b[0;34m(\u001b[0m\u001b[0mindex\u001b[0m\u001b[0;34m)\u001b[0m  \u001b[0;31m# may raise StopIteration\u001b[0m\u001b[0;34m\u001b[0m\u001b[0;34m\u001b[0m\u001b[0m\n\u001b[0m\u001b[1;32m    476\u001b[0m         \u001b[0;32mif\u001b[0m \u001b[0mself\u001b[0m\u001b[0;34m.\u001b[0m\u001b[0m_pin_memory\u001b[0m\u001b[0;34m:\u001b[0m\u001b[0;34m\u001b[0m\u001b[0;34m\u001b[0m\u001b[0m\n\u001b[1;32m    477\u001b[0m             \u001b[0mdata\u001b[0m \u001b[0;34m=\u001b[0m \u001b[0m_utils\u001b[0m\u001b[0;34m.\u001b[0m\u001b[0mpin_memory\u001b[0m\u001b[0;34m.\u001b[0m\u001b[0mpin_memory\u001b[0m\u001b[0;34m(\u001b[0m\u001b[0mdata\u001b[0m\u001b[0;34m)\u001b[0m\u001b[0;34m\u001b[0m\u001b[0;34m\u001b[0m\u001b[0m\n",
      "\u001b[0;32m~/.pyenv/versions/venv_ped/lib/python3.7/site-packages/torch/utils/data/_utils/fetch.py\u001b[0m in \u001b[0;36mfetch\u001b[0;34m(self, possibly_batched_index)\u001b[0m\n\u001b[1;32m     42\u001b[0m     \u001b[0;32mdef\u001b[0m \u001b[0mfetch\u001b[0m\u001b[0;34m(\u001b[0m\u001b[0mself\u001b[0m\u001b[0;34m,\u001b[0m \u001b[0mpossibly_batched_index\u001b[0m\u001b[0;34m)\u001b[0m\u001b[0;34m:\u001b[0m\u001b[0;34m\u001b[0m\u001b[0;34m\u001b[0m\u001b[0m\n\u001b[1;32m     43\u001b[0m         \u001b[0;32mif\u001b[0m \u001b[0mself\u001b[0m\u001b[0;34m.\u001b[0m\u001b[0mauto_collation\u001b[0m\u001b[0;34m:\u001b[0m\u001b[0;34m\u001b[0m\u001b[0;34m\u001b[0m\u001b[0m\n\u001b[0;32m---> 44\u001b[0;31m             \u001b[0mdata\u001b[0m \u001b[0;34m=\u001b[0m \u001b[0;34m[\u001b[0m\u001b[0mself\u001b[0m\u001b[0;34m.\u001b[0m\u001b[0mdataset\u001b[0m\u001b[0;34m[\u001b[0m\u001b[0midx\u001b[0m\u001b[0;34m]\u001b[0m \u001b[0;32mfor\u001b[0m \u001b[0midx\u001b[0m \u001b[0;32min\u001b[0m \u001b[0mpossibly_batched_index\u001b[0m\u001b[0;34m]\u001b[0m\u001b[0;34m\u001b[0m\u001b[0;34m\u001b[0m\u001b[0m\n\u001b[0m\u001b[1;32m     45\u001b[0m         \u001b[0;32melse\u001b[0m\u001b[0;34m:\u001b[0m\u001b[0;34m\u001b[0m\u001b[0;34m\u001b[0m\u001b[0m\n\u001b[1;32m     46\u001b[0m             \u001b[0mdata\u001b[0m \u001b[0;34m=\u001b[0m \u001b[0mself\u001b[0m\u001b[0;34m.\u001b[0m\u001b[0mdataset\u001b[0m\u001b[0;34m[\u001b[0m\u001b[0mpossibly_batched_index\u001b[0m\u001b[0;34m]\u001b[0m\u001b[0;34m\u001b[0m\u001b[0;34m\u001b[0m\u001b[0m\n",
      "\u001b[0;32m~/.pyenv/versions/venv_ped/lib/python3.7/site-packages/torch/utils/data/_utils/fetch.py\u001b[0m in \u001b[0;36m<listcomp>\u001b[0;34m(.0)\u001b[0m\n\u001b[1;32m     42\u001b[0m     \u001b[0;32mdef\u001b[0m \u001b[0mfetch\u001b[0m\u001b[0;34m(\u001b[0m\u001b[0mself\u001b[0m\u001b[0;34m,\u001b[0m \u001b[0mpossibly_batched_index\u001b[0m\u001b[0;34m)\u001b[0m\u001b[0;34m:\u001b[0m\u001b[0;34m\u001b[0m\u001b[0;34m\u001b[0m\u001b[0m\n\u001b[1;32m     43\u001b[0m         \u001b[0;32mif\u001b[0m \u001b[0mself\u001b[0m\u001b[0;34m.\u001b[0m\u001b[0mauto_collation\u001b[0m\u001b[0;34m:\u001b[0m\u001b[0;34m\u001b[0m\u001b[0;34m\u001b[0m\u001b[0m\n\u001b[0;32m---> 44\u001b[0;31m             \u001b[0mdata\u001b[0m \u001b[0;34m=\u001b[0m \u001b[0;34m[\u001b[0m\u001b[0mself\u001b[0m\u001b[0;34m.\u001b[0m\u001b[0mdataset\u001b[0m\u001b[0;34m[\u001b[0m\u001b[0midx\u001b[0m\u001b[0;34m]\u001b[0m \u001b[0;32mfor\u001b[0m \u001b[0midx\u001b[0m \u001b[0;32min\u001b[0m \u001b[0mpossibly_batched_index\u001b[0m\u001b[0;34m]\u001b[0m\u001b[0;34m\u001b[0m\u001b[0;34m\u001b[0m\u001b[0m\n\u001b[0m\u001b[1;32m     45\u001b[0m         \u001b[0;32melse\u001b[0m\u001b[0;34m:\u001b[0m\u001b[0;34m\u001b[0m\u001b[0;34m\u001b[0m\u001b[0m\n\u001b[1;32m     46\u001b[0m             \u001b[0mdata\u001b[0m \u001b[0;34m=\u001b[0m \u001b[0mself\u001b[0m\u001b[0;34m.\u001b[0m\u001b[0mdataset\u001b[0m\u001b[0;34m[\u001b[0m\u001b[0mpossibly_batched_index\u001b[0m\u001b[0;34m]\u001b[0m\u001b[0;34m\u001b[0m\u001b[0;34m\u001b[0m\u001b[0m\n",
      "\u001b[0;32m~/.pyenv/versions/venv_ped/lib/python3.7/site-packages/datasets/arrow_dataset.py\u001b[0m in \u001b[0;36m__getitem__\u001b[0;34m(self, key)\u001b[0m\n\u001b[1;32m   1520\u001b[0m             \u001b[0mformat_columns\u001b[0m\u001b[0;34m=\u001b[0m\u001b[0mself\u001b[0m\u001b[0;34m.\u001b[0m\u001b[0m_format_columns\u001b[0m\u001b[0;34m,\u001b[0m\u001b[0;34m\u001b[0m\u001b[0;34m\u001b[0m\u001b[0m\n\u001b[1;32m   1521\u001b[0m             \u001b[0moutput_all_columns\u001b[0m\u001b[0;34m=\u001b[0m\u001b[0mself\u001b[0m\u001b[0;34m.\u001b[0m\u001b[0m_output_all_columns\u001b[0m\u001b[0;34m,\u001b[0m\u001b[0;34m\u001b[0m\u001b[0;34m\u001b[0m\u001b[0m\n\u001b[0;32m-> 1522\u001b[0;31m             \u001b[0mformat_kwargs\u001b[0m\u001b[0;34m=\u001b[0m\u001b[0mself\u001b[0m\u001b[0;34m.\u001b[0m\u001b[0m_format_kwargs\u001b[0m\u001b[0;34m,\u001b[0m\u001b[0;34m\u001b[0m\u001b[0;34m\u001b[0m\u001b[0m\n\u001b[0m\u001b[1;32m   1523\u001b[0m         )\n\u001b[1;32m   1524\u001b[0m \u001b[0;34m\u001b[0m\u001b[0m\n",
      "\u001b[0;32m~/.pyenv/versions/venv_ped/lib/python3.7/site-packages/datasets/arrow_dataset.py\u001b[0m in \u001b[0;36m_getitem\u001b[0;34m(self, key, format_type, format_columns, output_all_columns, format_kwargs)\u001b[0m\n\u001b[1;32m   1509\u001b[0m         \u001b[0mpa_subtable\u001b[0m \u001b[0;34m=\u001b[0m \u001b[0mquery_table\u001b[0m\u001b[0;34m(\u001b[0m\u001b[0mself\u001b[0m\u001b[0;34m.\u001b[0m\u001b[0m_data\u001b[0m\u001b[0;34m,\u001b[0m \u001b[0mkey\u001b[0m\u001b[0;34m,\u001b[0m \u001b[0mindices\u001b[0m\u001b[0;34m=\u001b[0m\u001b[0mself\u001b[0m\u001b[0;34m.\u001b[0m\u001b[0m_indices\u001b[0m \u001b[0;32mif\u001b[0m \u001b[0mself\u001b[0m\u001b[0;34m.\u001b[0m\u001b[0m_indices\u001b[0m \u001b[0;32mis\u001b[0m \u001b[0;32mnot\u001b[0m \u001b[0;32mNone\u001b[0m \u001b[0;32melse\u001b[0m \u001b[0;32mNone\u001b[0m\u001b[0;34m)\u001b[0m\u001b[0;34m\u001b[0m\u001b[0;34m\u001b[0m\u001b[0m\n\u001b[1;32m   1510\u001b[0m         formatted_output = format_table(\n\u001b[0;32m-> 1511\u001b[0;31m             \u001b[0mpa_subtable\u001b[0m\u001b[0;34m,\u001b[0m \u001b[0mkey\u001b[0m\u001b[0;34m,\u001b[0m \u001b[0mformatter\u001b[0m\u001b[0;34m=\u001b[0m\u001b[0mformatter\u001b[0m\u001b[0;34m,\u001b[0m \u001b[0mformat_columns\u001b[0m\u001b[0;34m=\u001b[0m\u001b[0mformat_columns\u001b[0m\u001b[0;34m,\u001b[0m \u001b[0moutput_all_columns\u001b[0m\u001b[0;34m=\u001b[0m\u001b[0moutput_all_columns\u001b[0m\u001b[0;34m\u001b[0m\u001b[0;34m\u001b[0m\u001b[0m\n\u001b[0m\u001b[1;32m   1512\u001b[0m         )\n\u001b[1;32m   1513\u001b[0m         \u001b[0;32mreturn\u001b[0m \u001b[0mformatted_output\u001b[0m\u001b[0;34m\u001b[0m\u001b[0;34m\u001b[0m\u001b[0m\n",
      "\u001b[0;32m~/.pyenv/versions/venv_ped/lib/python3.7/site-packages/datasets/formatting/formatting.py\u001b[0m in \u001b[0;36mformat_table\u001b[0;34m(table, key, formatter, format_columns, output_all_columns)\u001b[0m\n\u001b[1;32m    420\u001b[0m     \u001b[0;32melse\u001b[0m\u001b[0;34m:\u001b[0m\u001b[0;34m\u001b[0m\u001b[0;34m\u001b[0m\u001b[0m\n\u001b[1;32m    421\u001b[0m         \u001b[0mpa_table_to_format\u001b[0m \u001b[0;34m=\u001b[0m \u001b[0mpa_table\u001b[0m\u001b[0;34m.\u001b[0m\u001b[0mdrop\u001b[0m\u001b[0;34m(\u001b[0m\u001b[0mcol\u001b[0m \u001b[0;32mfor\u001b[0m \u001b[0mcol\u001b[0m \u001b[0;32min\u001b[0m \u001b[0mpa_table\u001b[0m\u001b[0;34m.\u001b[0m\u001b[0mcolumn_names\u001b[0m \u001b[0;32mif\u001b[0m \u001b[0mcol\u001b[0m \u001b[0;32mnot\u001b[0m \u001b[0;32min\u001b[0m \u001b[0mformat_columns\u001b[0m\u001b[0;34m)\u001b[0m\u001b[0;34m\u001b[0m\u001b[0;34m\u001b[0m\u001b[0m\n\u001b[0;32m--> 422\u001b[0;31m         \u001b[0mformatted_output\u001b[0m \u001b[0;34m=\u001b[0m \u001b[0mformatter\u001b[0m\u001b[0;34m(\u001b[0m\u001b[0mpa_table_to_format\u001b[0m\u001b[0;34m,\u001b[0m \u001b[0mquery_type\u001b[0m\u001b[0;34m=\u001b[0m\u001b[0mquery_type\u001b[0m\u001b[0;34m)\u001b[0m\u001b[0;34m\u001b[0m\u001b[0;34m\u001b[0m\u001b[0m\n\u001b[0m\u001b[1;32m    423\u001b[0m         \u001b[0;32mif\u001b[0m \u001b[0moutput_all_columns\u001b[0m\u001b[0;34m:\u001b[0m\u001b[0;34m\u001b[0m\u001b[0;34m\u001b[0m\u001b[0m\n\u001b[1;32m    424\u001b[0m             \u001b[0;32mif\u001b[0m \u001b[0misinstance\u001b[0m\u001b[0;34m(\u001b[0m\u001b[0mformatted_output\u001b[0m\u001b[0;34m,\u001b[0m \u001b[0mMutableMapping\u001b[0m\u001b[0;34m)\u001b[0m\u001b[0;34m:\u001b[0m\u001b[0;34m\u001b[0m\u001b[0;34m\u001b[0m\u001b[0m\n",
      "\u001b[0;32m~/.pyenv/versions/venv_ped/lib/python3.7/site-packages/datasets/formatting/formatting.py\u001b[0m in \u001b[0;36m__call__\u001b[0;34m(self, pa_table, query_type)\u001b[0m\n\u001b[1;32m    192\u001b[0m     \u001b[0;32mdef\u001b[0m \u001b[0m__call__\u001b[0m\u001b[0;34m(\u001b[0m\u001b[0mself\u001b[0m\u001b[0;34m,\u001b[0m \u001b[0mpa_table\u001b[0m\u001b[0;34m:\u001b[0m \u001b[0mpa\u001b[0m\u001b[0;34m.\u001b[0m\u001b[0mTable\u001b[0m\u001b[0;34m,\u001b[0m \u001b[0mquery_type\u001b[0m\u001b[0;34m:\u001b[0m \u001b[0mstr\u001b[0m\u001b[0;34m)\u001b[0m \u001b[0;34m->\u001b[0m \u001b[0mUnion\u001b[0m\u001b[0;34m[\u001b[0m\u001b[0mRowFormat\u001b[0m\u001b[0;34m,\u001b[0m \u001b[0mColumnFormat\u001b[0m\u001b[0;34m,\u001b[0m \u001b[0mBatchFormat\u001b[0m\u001b[0;34m]\u001b[0m\u001b[0;34m:\u001b[0m\u001b[0;34m\u001b[0m\u001b[0;34m\u001b[0m\u001b[0m\n\u001b[1;32m    193\u001b[0m         \u001b[0;32mif\u001b[0m \u001b[0mquery_type\u001b[0m \u001b[0;34m==\u001b[0m \u001b[0;34m\"row\"\u001b[0m\u001b[0;34m:\u001b[0m\u001b[0;34m\u001b[0m\u001b[0;34m\u001b[0m\u001b[0m\n\u001b[0;32m--> 194\u001b[0;31m             \u001b[0;32mreturn\u001b[0m \u001b[0mself\u001b[0m\u001b[0;34m.\u001b[0m\u001b[0mformat_row\u001b[0m\u001b[0;34m(\u001b[0m\u001b[0mpa_table\u001b[0m\u001b[0;34m)\u001b[0m\u001b[0;34m\u001b[0m\u001b[0;34m\u001b[0m\u001b[0m\n\u001b[0m\u001b[1;32m    195\u001b[0m         \u001b[0;32melif\u001b[0m \u001b[0mquery_type\u001b[0m \u001b[0;34m==\u001b[0m \u001b[0;34m\"column\"\u001b[0m\u001b[0;34m:\u001b[0m\u001b[0;34m\u001b[0m\u001b[0;34m\u001b[0m\u001b[0m\n\u001b[1;32m    196\u001b[0m             \u001b[0;32mreturn\u001b[0m \u001b[0mself\u001b[0m\u001b[0;34m.\u001b[0m\u001b[0mformat_column\u001b[0m\u001b[0;34m(\u001b[0m\u001b[0mpa_table\u001b[0m\u001b[0;34m)\u001b[0m\u001b[0;34m\u001b[0m\u001b[0;34m\u001b[0m\u001b[0m\n",
      "\u001b[0;32m~/.pyenv/versions/venv_ped/lib/python3.7/site-packages/datasets/formatting/formatting.py\u001b[0m in \u001b[0;36mformat_row\u001b[0;34m(self, pa_table)\u001b[0m\n\u001b[1;32m    221\u001b[0m \u001b[0;32mclass\u001b[0m \u001b[0mPythonFormatter\u001b[0m\u001b[0;34m(\u001b[0m\u001b[0mFormatter\u001b[0m\u001b[0;34m[\u001b[0m\u001b[0mdict\u001b[0m\u001b[0;34m,\u001b[0m \u001b[0mlist\u001b[0m\u001b[0;34m,\u001b[0m \u001b[0mdict\u001b[0m\u001b[0;34m]\u001b[0m\u001b[0;34m)\u001b[0m\u001b[0;34m:\u001b[0m\u001b[0;34m\u001b[0m\u001b[0;34m\u001b[0m\u001b[0m\n\u001b[1;32m    222\u001b[0m     \u001b[0;32mdef\u001b[0m \u001b[0mformat_row\u001b[0m\u001b[0;34m(\u001b[0m\u001b[0mself\u001b[0m\u001b[0;34m,\u001b[0m \u001b[0mpa_table\u001b[0m\u001b[0;34m:\u001b[0m \u001b[0mpa\u001b[0m\u001b[0;34m.\u001b[0m\u001b[0mTable\u001b[0m\u001b[0;34m)\u001b[0m \u001b[0;34m->\u001b[0m \u001b[0mdict\u001b[0m\u001b[0;34m:\u001b[0m\u001b[0;34m\u001b[0m\u001b[0;34m\u001b[0m\u001b[0m\n\u001b[0;32m--> 223\u001b[0;31m         \u001b[0;32mreturn\u001b[0m \u001b[0mself\u001b[0m\u001b[0;34m.\u001b[0m\u001b[0mpython_arrow_extractor\u001b[0m\u001b[0;34m(\u001b[0m\u001b[0;34m)\u001b[0m\u001b[0;34m.\u001b[0m\u001b[0mextract_row\u001b[0m\u001b[0;34m(\u001b[0m\u001b[0mpa_table\u001b[0m\u001b[0;34m)\u001b[0m\u001b[0;34m\u001b[0m\u001b[0;34m\u001b[0m\u001b[0m\n\u001b[0m\u001b[1;32m    224\u001b[0m \u001b[0;34m\u001b[0m\u001b[0m\n\u001b[1;32m    225\u001b[0m     \u001b[0;32mdef\u001b[0m \u001b[0mformat_column\u001b[0m\u001b[0;34m(\u001b[0m\u001b[0mself\u001b[0m\u001b[0;34m,\u001b[0m \u001b[0mpa_table\u001b[0m\u001b[0;34m:\u001b[0m \u001b[0mpa\u001b[0m\u001b[0;34m.\u001b[0m\u001b[0mTable\u001b[0m\u001b[0;34m)\u001b[0m \u001b[0;34m->\u001b[0m \u001b[0mlist\u001b[0m\u001b[0;34m:\u001b[0m\u001b[0;34m\u001b[0m\u001b[0;34m\u001b[0m\u001b[0m\n",
      "\u001b[0;32m~/.pyenv/versions/venv_ped/lib/python3.7/site-packages/datasets/formatting/formatting.py\u001b[0m in \u001b[0;36mextract_row\u001b[0;34m(self, pa_table)\u001b[0m\n\u001b[1;32m    132\u001b[0m \u001b[0;32mclass\u001b[0m \u001b[0mPythonArrowExtractor\u001b[0m\u001b[0;34m(\u001b[0m\u001b[0mBaseArrowExtractor\u001b[0m\u001b[0;34m[\u001b[0m\u001b[0mdict\u001b[0m\u001b[0;34m,\u001b[0m \u001b[0mlist\u001b[0m\u001b[0;34m,\u001b[0m \u001b[0mdict\u001b[0m\u001b[0;34m]\u001b[0m\u001b[0;34m)\u001b[0m\u001b[0;34m:\u001b[0m\u001b[0;34m\u001b[0m\u001b[0;34m\u001b[0m\u001b[0m\n\u001b[1;32m    133\u001b[0m     \u001b[0;32mdef\u001b[0m \u001b[0mextract_row\u001b[0m\u001b[0;34m(\u001b[0m\u001b[0mself\u001b[0m\u001b[0;34m,\u001b[0m \u001b[0mpa_table\u001b[0m\u001b[0;34m:\u001b[0m \u001b[0mpa\u001b[0m\u001b[0;34m.\u001b[0m\u001b[0mTable\u001b[0m\u001b[0;34m)\u001b[0m \u001b[0;34m->\u001b[0m \u001b[0mdict\u001b[0m\u001b[0;34m:\u001b[0m\u001b[0;34m\u001b[0m\u001b[0;34m\u001b[0m\u001b[0m\n\u001b[0;32m--> 134\u001b[0;31m         \u001b[0;32mreturn\u001b[0m \u001b[0m_unnest\u001b[0m\u001b[0;34m(\u001b[0m\u001b[0mpa_table\u001b[0m\u001b[0;34m.\u001b[0m\u001b[0mto_pydict\u001b[0m\u001b[0;34m(\u001b[0m\u001b[0;34m)\u001b[0m\u001b[0;34m)\u001b[0m\u001b[0;34m\u001b[0m\u001b[0;34m\u001b[0m\u001b[0m\n\u001b[0m\u001b[1;32m    135\u001b[0m \u001b[0;34m\u001b[0m\u001b[0m\n\u001b[1;32m    136\u001b[0m     \u001b[0;32mdef\u001b[0m \u001b[0mextract_column\u001b[0m\u001b[0;34m(\u001b[0m\u001b[0mself\u001b[0m\u001b[0;34m,\u001b[0m \u001b[0mpa_table\u001b[0m\u001b[0;34m:\u001b[0m \u001b[0mpa\u001b[0m\u001b[0;34m.\u001b[0m\u001b[0mTable\u001b[0m\u001b[0;34m)\u001b[0m \u001b[0;34m->\u001b[0m \u001b[0mlist\u001b[0m\u001b[0;34m:\u001b[0m\u001b[0;34m\u001b[0m\u001b[0;34m\u001b[0m\u001b[0m\n",
      "\u001b[0;31mKeyboardInterrupt\u001b[0m: "
     ]
    }
   ],
   "source": [
    "trainer.train()"
   ]
  },
  {
   "cell_type": "code",
   "execution_count": null,
   "id": "3330342b-ad75-46c9-b4bd-c9569edbeea5",
   "metadata": {
    "tags": []
   },
   "outputs": [],
   "source": [
    "print(torch.cuda.memory_summary(device=None, abbreviated=False))"
   ]
  },
  {
   "cell_type": "code",
   "execution_count": null,
   "id": "326330c1-9f70-4f1e-85bb-d9a6fa988632",
   "metadata": {},
   "outputs": [],
   "source": []
  }
 ],
 "metadata": {
  "kernelspec": {
   "display_name": "venv_ped",
   "language": "python",
   "name": "venv_ped"
  },
  "language_info": {
   "codemirror_mode": {
    "name": "ipython",
    "version": 3
   },
   "file_extension": ".py",
   "mimetype": "text/x-python",
   "name": "python",
   "nbconvert_exporter": "python",
   "pygments_lexer": "ipython3",
   "version": "3.7.1"
  }
 },
 "nbformat": 4,
 "nbformat_minor": 5
}
